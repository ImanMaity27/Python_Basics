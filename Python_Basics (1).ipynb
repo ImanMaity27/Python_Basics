{
  "nbformat": 4,
  "nbformat_minor": 0,
  "metadata": {
    "colab": {
      "provenance": []
    },
    "kernelspec": {
      "name": "python3",
      "display_name": "Python 3"
    },
    "language_info": {
      "name": "python"
    }
  },
  "cells": [
    {
      "cell_type": "markdown",
      "source": [
        "# ------    Python Basics    ------"
      ],
      "metadata": {
        "id": "2rXmHEak-aeG"
      }
    },
    {
      "cell_type": "markdown",
      "source": [
        "1. What is Python, and why is it popular?\n",
        "   - Python is a formal programming language for creating instructions for a computer to follow set of rules and symbols that define the process of writing .\n",
        "  - Python is popular language because --\n",
        "  a) It is widely used in the industry,such as data industries.\n",
        "  b) A lot of libraries\n",
        "  c) Versatility meanes it use in anywhere . like - Web devolopment,\n",
        "  machine learning etc.\n",
        "  d) Interect with databases\n",
        "  e) Easy to learn\n",
        "  f) And a huge active community\n",
        "\n",
        "2. What is an interpreter in Python?\n",
        "   - In python , an 'Interpreter' is a programs that directly executes\n",
        "   instructions writen in a high-level programming language without converting them into machine code.Unlike a compiler which translates the entire program into machine code before execution and here interpreter translates and executes the python program line by line.\n",
        "\n",
        "3.  What are pre-defined keywords in Python?\n",
        "   - In python predefined keywords are predefined words that hold a special meaning and have specific purpose in python. Like- False,None,in\n",
        "   if we want to know all the pre-defined keywords we run the code to any python interpreter the code is --\n",
        "       print(help('keywords');\n",
        "\n",
        "4. Can keywords be used as variable names?\n",
        "   - No. Like if we run this code to an python interpreter this will through an error ---  if = 10; ( here \"if\" is a pre-defined keywords ).\n",
        "\n",
        "5. What is mutability in Python?\n",
        "   - Objects whose value can be changed after they are created are called as mutable objects , and this process is called mutability.\n",
        "   list is a type of mutable objects.\n",
        "   Example-- a=[1,2,\"iman\",3+5j,\"ashu\"];\n",
        "             a[0]=100;\n",
        "             print(a);\n",
        "\n",
        "   Output--  [100,2,'iman',3+5j,'ashu']\n",
        "\n",
        "6. Why are lists mutable, but tuples are immutable?\n",
        "   - Lists are mutable because in list the objects can be changed by indexing and assigned a value but in tuples objects values can not be changed.\n",
        "\n",
        "7. What is the difference between “==” and “is” operators in Python?\n",
        "   - The '==' operator in python is used for value comparison. It checks if the values of two object are equal or not. If the values are same , it returns True, otherwise False.\n",
        "   Example--    a=5<6;\n",
        "                print(a);\n",
        "\n",
        "   Output--  True\n",
        "\n",
        "   - The 'is' operator in python is used for identity comparison.It checks if two variable refer to the same object in memory.It does not compare values,it checks whether the variable point to the variables point to the same memory location.\n",
        "   Example--    list1 = [1, 2, 3];\n",
        "                list2 = [1, 2, 3];\n",
        "                print(list1 is list2);  \n",
        "                print(list1 == list2);\n",
        "\n",
        "   Output--    False\n",
        "               True              \n",
        "\n",
        "\n",
        "8. What are logical operators in Python?\n",
        "   - Three logical operators are in python --\n",
        "   a)and\n",
        "   b)or\n",
        "   c)not\n",
        "\n",
        "9.  What is type casting in Python?\n",
        "   - Type casting is also known as \"Type conversion\".It is the process of changing the data type of a value or object.\n",
        "   Example--    a=\"2\";\n",
        "                print(type(a));\n",
        "                print(type(int(a)));\n",
        "\n",
        "   Output--    <class 'str'>\n",
        "               <class 'int'>\n",
        "\n",
        "10. What is the difference between implicit and explicit type casting?\n",
        "   - implicit : a) it is done by automatically\n",
        "                b) implicit conversion do not require any special syntax.\n",
        "\n",
        "     explicit : a) it is done by programmatically\n",
        "                b) it convert data type using inbuilt functions(like- str,int,float,bool).\n",
        "\n",
        "11. What is the purpose of conditional statements in Python?\n",
        "   - Conditional statements helps us to code decisions based on some predictions.\n",
        "   example-- a=100;\n",
        "             if(a>0):  #( Here it is a conditional if statements)\n",
        "                print(\"The number is greater than 0\");\n",
        "\n",
        "   Output--   The number is greater than 0\n",
        "\n",
        "12. How does the elif statement work?\n",
        "   - \"elif\" statement contains \"else\" and \"if\" statements.It is used in multiple conditional statements and uses \"n\" times.\n",
        "\n",
        "   Example--\n",
        "\n",
        "      a=10;\n",
        "      if(a>100):\n",
        "          print(\"greater than 100\");\n",
        "      elif(a<100);\n",
        "          print(\"lesser than 100\");\n",
        "      else:\n",
        "          print(\"equals to 100\");\n",
        "\n",
        "13. What is the difference between for and while loops?\n",
        "   - For loop is used to iterate over a sequence of items.\n",
        "   - While loop is used to repeatedly execute a block of statements while a condition is true.\n",
        "\n",
        "14.  Describe a scenario where a while loop is more suitable than a for loop.\n",
        "   \n",
        "   - In real life scenario a while loop is useful when checking if a device is connected to wifi , as we donot know how many attempts it will take before the connection is establish.\n"
      ],
      "metadata": {
        "id": "LJNtT8hfB5Cl"
      }
    },
    {
      "cell_type": "code",
      "source": [
        "# 1. Write a Python program to print \"Hello, World!\".\n",
        "\n",
        "print(\"Hello World!\");\n",
        "\n",
        "\n"
      ],
      "metadata": {
        "colab": {
          "base_uri": "https://localhost:8080/"
        },
        "id": "ol_fs1sXyR6l",
        "outputId": "1df68084-2597-4274-fe0a-a93b7243410e"
      },
      "execution_count": null,
      "outputs": [
        {
          "output_type": "stream",
          "name": "stdout",
          "text": [
            "Hello World!\n"
          ]
        }
      ]
    },
    {
      "cell_type": "code",
      "source": [
        "# 2. Write a Python program that displays your name and age.\n",
        "\n",
        "name = \"Iman Maity\";\n",
        "age = 20;\n",
        "print(name);\n",
        "print(age);\n"
      ],
      "metadata": {
        "id": "iK2_SXUmy1Q6",
        "colab": {
          "base_uri": "https://localhost:8080/"
        },
        "outputId": "a78c5a81-169b-44a7-e962-73d6de2e7fdb"
      },
      "execution_count": null,
      "outputs": [
        {
          "output_type": "stream",
          "name": "stdout",
          "text": [
            "Iman Maity\n",
            "20\n"
          ]
        }
      ]
    },
    {
      "cell_type": "code",
      "source": [
        "# 3. Write code to print all the pre-defined keywords in Python using the keyword library.\n",
        "print(help('keywords'));\n",
        "\n",
        "\n",
        "\n"
      ],
      "metadata": {
        "colab": {
          "base_uri": "https://localhost:8080/"
        },
        "id": "brF3rQpWz2SR",
        "outputId": "960fdf91-2551-402b-d97f-672c22685c48"
      },
      "execution_count": null,
      "outputs": [
        {
          "output_type": "stream",
          "name": "stdout",
          "text": [
            "\n",
            "Here is a list of the Python keywords.  Enter any keyword to get more help.\n",
            "\n",
            "False               class               from                or\n",
            "None                continue            global              pass\n",
            "True                def                 if                  raise\n",
            "and                 del                 import              return\n",
            "as                  elif                in                  try\n",
            "assert              else                is                  while\n",
            "async               except              lambda              with\n",
            "await               finally             nonlocal            yield\n",
            "break               for                 not                 \n",
            "\n",
            "None\n"
          ]
        }
      ]
    },
    {
      "cell_type": "code",
      "source": [
        "# 4.Write a program that checks if a given word is a Python keyword.\n",
        "\n",
        "word = input(\"Enter a word to check if it's a Python keyword: \");\n",
        "\n",
        "if word == [\n",
        "    \"False\", \"None\", \"True\", \"and\", \"as\", \"assert\", \"async\", \"await\", \"break\",\n",
        "    \"class\", \"continue\", \"def\", \"del\", \"elif\", \"else\", \"except\", \"finally\",\n",
        "    \"for\", \"from\", \"global\", \"if\", \"import\", \"in\", \"is\", \"lambda\", \"nonlocal\",\n",
        "    \"not\", \"or\", \"pass\", \"raise\", \"return\", \"try\", \"while\", \"with\", \"yield\"]:\n",
        "    print(\"Python keyword\");\n",
        "else:\n",
        "    print(\"NOT a Python keyword\");\n"
      ],
      "metadata": {
        "id": "zbb57zzF1DzP",
        "colab": {
          "base_uri": "https://localhost:8080/"
        },
        "outputId": "f5acbbe3-bf29-4590-f002-acfd4838201e"
      },
      "execution_count": null,
      "outputs": [
        {
          "output_type": "stream",
          "name": "stdout",
          "text": [
            "Enter a word to check if it's a Python keyword: hsgu\n",
            "NOT a Python keyword\n"
          ]
        }
      ]
    },
    {
      "cell_type": "code",
      "source": [
        "# 5. Create a list and tuple in Python, and demonstrate how attempting to change an element works differently for each.\n",
        "my_list = [1, 2, 3, 4, 5]\n",
        "my_tuple = (1, 2, 3, 4, 5)\n",
        "my_list[0] = 10\n",
        "print(my_list)\n",
        "my_tuple[0] = 10\n",
        "print(my_tuple)\n"
      ],
      "metadata": {
        "id": "gIbvlsIH4Q5d",
        "colab": {
          "base_uri": "https://localhost:8080/",
          "height": 211
        },
        "outputId": "236d8f21-54b1-45ce-c813-a09bca40bafe"
      },
      "execution_count": 5,
      "outputs": [
        {
          "output_type": "stream",
          "name": "stdout",
          "text": [
            "[10, 2, 3, 4, 5]\n"
          ]
        },
        {
          "output_type": "error",
          "ename": "TypeError",
          "evalue": "'tuple' object does not support item assignment",
          "traceback": [
            "\u001b[0;31m---------------------------------------------------------------------------\u001b[0m",
            "\u001b[0;31mTypeError\u001b[0m                                 Traceback (most recent call last)",
            "\u001b[0;32m<ipython-input-5-7171dcc5d79e>\u001b[0m in \u001b[0;36m<cell line: 0>\u001b[0;34m()\u001b[0m\n\u001b[1;32m      4\u001b[0m \u001b[0mmy_list\u001b[0m\u001b[0;34m[\u001b[0m\u001b[0;36m0\u001b[0m\u001b[0;34m]\u001b[0m \u001b[0;34m=\u001b[0m \u001b[0;36m10\u001b[0m\u001b[0;34m\u001b[0m\u001b[0;34m\u001b[0m\u001b[0m\n\u001b[1;32m      5\u001b[0m \u001b[0mprint\u001b[0m\u001b[0;34m(\u001b[0m\u001b[0mmy_list\u001b[0m\u001b[0;34m)\u001b[0m\u001b[0;34m\u001b[0m\u001b[0;34m\u001b[0m\u001b[0m\n\u001b[0;32m----> 6\u001b[0;31m \u001b[0mmy_tuple\u001b[0m\u001b[0;34m[\u001b[0m\u001b[0;36m0\u001b[0m\u001b[0;34m]\u001b[0m \u001b[0;34m=\u001b[0m \u001b[0;36m10\u001b[0m\u001b[0;34m\u001b[0m\u001b[0;34m\u001b[0m\u001b[0m\n\u001b[0m\u001b[1;32m      7\u001b[0m \u001b[0mprint\u001b[0m\u001b[0;34m(\u001b[0m\u001b[0mmy_tuple\u001b[0m\u001b[0;34m)\u001b[0m\u001b[0;34m\u001b[0m\u001b[0;34m\u001b[0m\u001b[0m\n",
            "\u001b[0;31mTypeError\u001b[0m: 'tuple' object does not support item assignment"
          ]
        }
      ]
    },
    {
      "cell_type": "code",
      "source": [
        "# 6. Write a function to demonstrate the behavior of mutable and immutable arguments.\n",
        "my_list = [1, 2, 3]\n",
        "my_integer = 5\n",
        "my_list.append(4)\n",
        "\n",
        "# Reassigning the immutable argument\n",
        "my_integer = 10\n",
        "\n",
        "print(\"Mutable argument:\", my_list)\n",
        "print(\"Immutable argument:\", my_integer)\n",
        "\n",
        "\n",
        "\n",
        "\n",
        "\n",
        "\n",
        "\n"
      ],
      "metadata": {
        "id": "OMRonwf-9vwL",
        "colab": {
          "base_uri": "https://localhost:8080/"
        },
        "outputId": "a05cfbe4-3e83-414f-954a-810a41f9bf0e"
      },
      "execution_count": 6,
      "outputs": [
        {
          "output_type": "stream",
          "name": "stdout",
          "text": [
            "Mutable argument: [1, 2, 3, 4]\n",
            "Immutable argument: 10\n"
          ]
        }
      ]
    },
    {
      "cell_type": "code",
      "source": [
        "# 7. Write a function to demonstrate the behavior of mutable and immutable arguments.\n",
        "my_list = [1, 2, 3]\n",
        "my_integer = 5\n",
        "my_list.append(4)\n",
        "\n",
        "# Reassigning the immutable argument\n",
        "my_integer = 10\n",
        "\n",
        "print(\"Mutable argument:\", my_list)\n",
        "print(\"Immutable argument:\", my_integer)\n",
        "\n",
        "\n",
        "\n",
        "\n",
        "\n",
        "\n",
        "\n",
        "\n",
        "\n"
      ],
      "metadata": {
        "id": "3gjXg2N-97n5",
        "colab": {
          "base_uri": "https://localhost:8080/"
        },
        "outputId": "5f04cde9-a664-459a-bfd4-bbbff6b242bc"
      },
      "execution_count": 7,
      "outputs": [
        {
          "output_type": "stream",
          "name": "stdout",
          "text": [
            "Mutable argument: [1, 2, 3, 4]\n",
            "Immutable argument: 10\n"
          ]
        }
      ]
    },
    {
      "cell_type": "code",
      "source": [
        "# 8. Write a program to demonstrate the use of logical operators.\n",
        "\n",
        "a=not False;\n",
        "b=False;\n",
        "c=a and b;\n",
        "d=a or b;\n",
        "print(a);\n",
        "print(c);\n",
        "print(d);\n",
        "\n",
        "\n"
      ],
      "metadata": {
        "colab": {
          "base_uri": "https://localhost:8080/"
        },
        "id": "0F8UHbvS-EXS",
        "outputId": "d28e0282-6c5a-4383-e677-c822b8c970cf"
      },
      "execution_count": null,
      "outputs": [
        {
          "output_type": "stream",
          "name": "stdout",
          "text": [
            "True\n",
            "False\n",
            "True\n"
          ]
        }
      ]
    },
    {
      "cell_type": "code",
      "source": [
        "# 9. Write a Python program to convert user input from string to integer, float, and boolean types.\n",
        "a=input(\"ENTER A NUMBER\");\n",
        "print(a);\n",
        "print(type(a));\n",
        "print(int(a));\n",
        "print(type(int(a)));\n",
        "print(float(a));\n",
        "print(type(float(a)));\n",
        "print(bool(a));\n",
        "print(type(bool(a)));\n",
        "\n"
      ],
      "metadata": {
        "colab": {
          "base_uri": "https://localhost:8080/"
        },
        "id": "nE53JQrd_u8B",
        "outputId": "8fa13043-7ae9-4014-8a6e-2e0a750e9228"
      },
      "execution_count": null,
      "outputs": [
        {
          "output_type": "stream",
          "name": "stdout",
          "text": [
            "ENTER A NUMBER55\n",
            "55\n",
            "<class 'str'>\n",
            "55\n",
            "<class 'int'>\n",
            "55.0\n",
            "<class 'float'>\n",
            "True\n",
            "<class 'bool'>\n"
          ]
        }
      ]
    },
    {
      "cell_type": "code",
      "source": [
        "# 10.  Write code to demonstrate type casting with list elements.\n",
        "a=[1,2.5,\"iman\"];\n",
        "print(a);\n",
        "print(type(a));\n",
        "print(str(a));\n",
        "print(type(str(a)));\n",
        "print(int(a[0]));\n",
        "print(type(int(a[0])));\n",
        "print(float(a[0]));\n",
        "print(type(float(a[0])));\n",
        "print(float(a[1]));\n",
        "print(type(float(a[1])));\n",
        "print(int(a[1]));\n",
        "print(type(int(a[1])));\n",
        "print(a[2]);\n",
        "print(type(a[2]));\n",
        "\n",
        "\n",
        "\n",
        "\n",
        "\n"
      ],
      "metadata": {
        "colab": {
          "base_uri": "https://localhost:8080/"
        },
        "id": "HaakDshYBv6V",
        "outputId": "714007a0-256e-42b0-fc81-1fabe67561fa"
      },
      "execution_count": null,
      "outputs": [
        {
          "output_type": "stream",
          "name": "stdout",
          "text": [
            "[1, 2.5, 'iman']\n",
            "<class 'list'>\n",
            "[1, 2.5, 'iman']\n",
            "<class 'str'>\n",
            "1\n",
            "<class 'int'>\n",
            "1.0\n",
            "<class 'float'>\n",
            "2.5\n",
            "<class 'float'>\n",
            "2\n",
            "<class 'int'>\n",
            "iman\n",
            "<class 'str'>\n"
          ]
        }
      ]
    },
    {
      "cell_type": "code",
      "source": [
        "# 11.  Write a program that checks if a number is positive, negative, or zero.\n",
        "\n",
        "a=int(input(\"Enter a Number\"));\n",
        "if(a>0):\n",
        "  print(\"Positive Number\");\n",
        "elif(a<0):\n",
        "  print(\"Negative Number\");\n",
        "else:\n",
        "  print(\"It is Zero\");\n",
        "\n",
        "\n",
        "\n",
        "\n",
        "\n",
        "\n",
        "\n"
      ],
      "metadata": {
        "colab": {
          "base_uri": "https://localhost:8080/"
        },
        "id": "WOcg-q9-F4ek",
        "outputId": "0c7ad4d4-656a-45cb-ae4e-99104a65e793"
      },
      "execution_count": null,
      "outputs": [
        {
          "output_type": "stream",
          "name": "stdout",
          "text": [
            "Enter a Number55555\n",
            "Positive Number\n"
          ]
        }
      ]
    },
    {
      "cell_type": "code",
      "source": [
        "# 12.  Write a for loop to print numbers from 1 to 10.\n",
        "\n",
        "for i in range(1,11,1):\n",
        "    print(i);\n"
      ],
      "metadata": {
        "colab": {
          "base_uri": "https://localhost:8080/"
        },
        "id": "nzM8QQspHGc7",
        "outputId": "24c57726-0b9e-4111-b8b5-a184ec8df222"
      },
      "execution_count": null,
      "outputs": [
        {
          "output_type": "stream",
          "name": "stdout",
          "text": [
            "1\n",
            "2\n",
            "3\n",
            "4\n",
            "5\n",
            "6\n",
            "7\n",
            "8\n",
            "9\n",
            "10\n"
          ]
        }
      ]
    },
    {
      "cell_type": "code",
      "source": [
        "# 13. Write a Python program to find the sum of all even numbers between 1 and 50.\n",
        "\n",
        "sum=0;\n",
        "for i in range(1,51,1):\n",
        "   if(i%2==0):\n",
        "     sum=sum + i\n",
        "print(sum);\n",
        "\n"
      ],
      "metadata": {
        "colab": {
          "base_uri": "https://localhost:8080/"
        },
        "id": "ewFOUbVbIibt",
        "outputId": "5d57f938-ae8e-4e4f-d3c2-035daac62231"
      },
      "execution_count": null,
      "outputs": [
        {
          "output_type": "stream",
          "name": "stdout",
          "text": [
            "650\n"
          ]
        }
      ]
    },
    {
      "cell_type": "code",
      "source": [
        "# 14. Write a program to reverse a string using a while loop.\n",
        "string_to_reverse = input(\"Enter a string: \")\n",
        "reversed_string = \"\"\n",
        "index = len(string_to_reverse) -1\n",
        "while index >= 0:\n",
        "    reversed_string += string_to_reverse[index]\n",
        "    index -= 1\n",
        "\n",
        "print(\"Reversed string:\", reversed_string)\n",
        "\n",
        "\n"
      ],
      "metadata": {
        "colab": {
          "base_uri": "https://localhost:8080/"
        },
        "id": "-B54aKAcN5IV",
        "outputId": "9bc1b6b0-a8d9-4182-e7f1-4dd29196c039"
      },
      "execution_count": 8,
      "outputs": [
        {
          "output_type": "stream",
          "name": "stdout",
          "text": [
            "Enter a string: iman\n",
            "Reversed string: nami\n"
          ]
        }
      ]
    },
    {
      "cell_type": "code",
      "source": [
        "# 15. Write a Python program to calculate the factorial of a number provided by the user using a while loop.\n",
        "num = int(input(\"Enter a number: \"))\n",
        "factorial = 1\n",
        "while num > 1:\n",
        "    factorial *= num\n",
        "    num -= 1\n",
        "print(\"Factorial:\", factorial)\n",
        "\n",
        "\n"
      ],
      "metadata": {
        "colab": {
          "base_uri": "https://localhost:8080/"
        },
        "id": "qlqvGtqUKM2t",
        "outputId": "e4e334b4-1ad6-44ac-f81c-ded1207d913b"
      },
      "execution_count": 9,
      "outputs": [
        {
          "output_type": "stream",
          "name": "stdout",
          "text": [
            "Enter a number: 5\n",
            "Factorial: 120\n"
          ]
        }
      ]
    }
  ]
}